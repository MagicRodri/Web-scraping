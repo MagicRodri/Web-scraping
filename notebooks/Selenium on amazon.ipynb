{
 "cells": [
  {
   "cell_type": "code",
   "execution_count": 2,
   "id": "aaac6796",
   "metadata": {},
   "outputs": [],
   "source": [
    "# cd .."
   ]
  },
  {
   "cell_type": "code",
   "execution_count": 3,
   "id": "190772cc",
   "metadata": {},
   "outputs": [],
   "source": [
    "from amazon.amazon_scraper import AmazonScraper\n",
    "from requests_html import HTML "
   ]
  },
  {
   "cell_type": "code",
   "execution_count": 4,
   "id": "185f7687",
   "metadata": {},
   "outputs": [],
   "source": [
    "endpoint1 = \"https://www.amazon.com/Beats-Solo3-Wireless-Ear-Headphones/dp/B07YVYZ8T5/ref=lp_16225009011_1_10?th=1\"\n",
    "endpoint2 = \"https://www.amazon.com/Charger-Protector-Extender-Charging-3-Sided/dp/B087RKKXM5/ref=lp_256643011_1_10\""
   ]
  },
  {
   "cell_type": "code",
   "execution_count": 5,
   "id": "f1a62a66",
   "metadata": {},
   "outputs": [],
   "source": [
    "scraper1 = AmazonScraper(url=endpoint1)\n",
    "html_str = scraper1.get_page()"
   ]
  },
  {
   "cell_type": "code",
   "execution_count": 6,
   "id": "b842da52",
   "metadata": {},
   "outputs": [],
   "source": [
    "html_obj = HTML(html=html_str)"
   ]
  },
  {
   "cell_type": "code",
   "execution_count": 7,
   "id": "4853f1ea",
   "metadata": {},
   "outputs": [
    {
     "data": {
      "text/plain": [
       "'Beats Solo3 Wireless On-Ear Headphones - Apple W1 Headphone Chip, Class 1 Bluetooth, 40 Hours of Listening Time, Built-in Microphone - Black (Latest Model)'"
      ]
     },
     "execution_count": 7,
     "metadata": {},
     "output_type": "execute_result"
    }
   ],
   "source": [
    "title = html_obj.find(\"#productTitle\", first=True).text\n",
    "title"
   ]
  },
  {
   "cell_type": "code",
   "execution_count": 8,
   "id": "b7126f37",
   "metadata": {},
   "outputs": [
    {
     "data": {
      "text/plain": [
       "'$78.75'"
      ]
     },
     "execution_count": 8,
     "metadata": {},
     "output_type": "execute_result"
    }
   ],
   "source": [
    "price_str = html_obj.find(\".apexPriceToPay span\", first=True).text\n",
    "price_str"
   ]
  },
  {
   "cell_type": "code",
   "execution_count": 9,
   "id": "4ad27f9c",
   "metadata": {},
   "outputs": [
    {
     "data": {
      "text/plain": [
       "{'Brand': 'Beats',\n",
       " 'Model Name': 'Beats Solo3',\n",
       " 'Color': 'Black',\n",
       " 'Form Factor': 'On Ear',\n",
       " 'Connectivity Technology': 'Bluetooth, NFC'}"
      ]
     },
     "execution_count": 9,
     "metadata": {},
     "output_type": "execute_result"
    }
   ],
   "source": [
    "extra_details_table = html_obj.find(\"table[class='a-normal a-spacing-micro']\", first=True)\n",
    "rows = extra_details_table.find(\"tr\")\n",
    "extra_details = {}\n",
    "for row in rows:\n",
    "    key,value = row.text.split(\"\\n\")\n",
    "    extra_details[key] = value\n",
    "extra_details\n",
    "    "
   ]
  },
  {
   "cell_type": "code",
   "execution_count": 10,
   "id": "b6a70fae",
   "metadata": {},
   "outputs": [
    {
     "name": "stdout",
     "output_type": "stream",
     "text": [
      "['__annotations__', '__class__', '__dataclass_fields__', '__dataclass_params__', '__delattr__', '__dict__', '__dir__', '__doc__', '__eq__', '__format__', '__ge__', '__getattribute__', '__gt__', '__hash__', '__init__', '__init_subclass__', '__le__', '__lt__', '__match_args__', '__module__', '__ne__', '__new__', '__post_init__', '__reduce__', '__reduce_ex__', '__repr__', '__setattr__', '__sizeof__', '__str__', '__subclasshook__', '__weakref__', 'driver', 'endless_scroll', 'endless_scroll_pause', 'get_driver', 'get_page', 'get_product_extra_details', 'get_product_price', 'get_product_title', 'headless', 'html_obj', 'perform_endless_scroll', 'url']\n"
     ]
    }
   ],
   "source": [
    "scraper2 = AmazonScraper(url=endpoint2)\n",
    "print(dir(scraper2))"
   ]
  },
  {
   "cell_type": "code",
   "execution_count": 11,
   "id": "aa7bdb0f",
   "metadata": {},
   "outputs": [
    {
     "data": {
      "text/plain": [
       "'USB Wall Charger Surge Protector 5 Outlet Extender with 4 USB Charging Ports ( 1 USB C Outlet) 3 Sided 1800J Power Strip Multi Plug Outlets Wall Adapter Spaced for Home Travel Office ETL Listed'"
      ]
     },
     "execution_count": 11,
     "metadata": {},
     "output_type": "execute_result"
    }
   ],
   "source": [
    "scraper2.get_product_title()"
   ]
  },
  {
   "cell_type": "code",
   "execution_count": 12,
   "id": "754a64ff",
   "metadata": {},
   "outputs": [
    {
     "data": {
      "text/plain": [
       "'$17.05'"
      ]
     },
     "execution_count": 12,
     "metadata": {},
     "output_type": "execute_result"
    }
   ],
   "source": [
    "scraper2.get_product_price()"
   ]
  },
  {
   "cell_type": "code",
   "execution_count": 13,
   "id": "6f88b5ce",
   "metadata": {},
   "outputs": [
    {
     "data": {
      "text/plain": [
       "{'Brand': 'Addtam',\n",
       " 'Color': 'white',\n",
       " 'Total Power Outlets': '5',\n",
       " 'Voltage': '125 Volts',\n",
       " 'Shape': 'Rectangular'}"
      ]
     },
     "execution_count": 13,
     "metadata": {},
     "output_type": "execute_result"
    }
   ],
   "source": [
    "scraper2.get_product_extra_details()"
   ]
  }
 ],
 "metadata": {
  "kernelspec": {
   "display_name": "venv",
   "language": "python",
   "name": "python3"
  },
  "language_info": {
   "codemirror_mode": {
    "name": "ipython",
    "version": 3
   },
   "file_extension": ".py",
   "mimetype": "text/x-python",
   "name": "python",
   "nbconvert_exporter": "python",
   "pygments_lexer": "ipython3",
   "version": "3.10.6"
  },
  "vscode": {
   "interpreter": {
    "hash": "3f1c9a5948027c346bc97b6eecdc109beacd6e38bb0dd9a0f73eae137d48d174"
   }
  }
 },
 "nbformat": 4,
 "nbformat_minor": 5
}
