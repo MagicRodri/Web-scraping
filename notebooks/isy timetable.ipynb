{
 "cells": [
  {
   "cell_type": "code",
   "execution_count": 1,
   "metadata": {},
   "outputs": [
    {
     "name": "stdout",
     "output_type": "stream",
     "text": [
      "/home/rodrigue/dev/web_scraping\n"
     ]
    }
   ],
   "source": [
    "#cd .."
   ]
  },
  {
   "cell_type": "code",
   "execution_count": null,
   "metadata": {},
   "outputs": [],
   "source": [
    "from isy_timetable.timetable_scraper import TimetableScraper,semesters,timetable_types_value\n",
    "from requests_html import HTML\n",
    "from selenium.webdriver.common.keys import Keys\n",
    "from selenium.webdriver.common.by import By"
   ]
  },
  {
   "cell_type": "code",
   "execution_count": null,
   "metadata": {},
   "outputs": [],
   "source": [
    "scraper = TimetableScraper(group=\"АС-112Б\",semester=2,academic_year='2022/2023', headless=True)\n",
    "driver = scraper.get_driver()\n",
    "driver.get(scraper.endpoint)\n",
    "page = driver.page_source\n",
    "assert \"Расписание\" in page"
   ]
  },
  {
   "cell_type": "code",
   "execution_count": null,
   "metadata": {},
   "outputs": [],
   "source": [
    "semester_select = driver.find_element(By.NAME,\"schedule_semestr_id\")\n",
    "semester = semesters[scraper.semester].format(academic_year=scraper.academic_year)\n",
    "for term in semester_select.find_elements(By.TAG_NAME,\"option\"):\n",
    "    if term.text == semester:\n",
    "        term.click()\n",
    "        break\n"
   ]
  },
  {
   "cell_type": "code",
   "execution_count": null,
   "metadata": {},
   "outputs": [],
   "source": [
    "filter_radio = driver.find_element(By.CSS_SELECTOR,\"input[value='1']\")\n",
    "filter_radio.click()"
   ]
  },
  {
   "cell_type": "code",
   "execution_count": null,
   "metadata": {},
   "outputs": [],
   "source": [
    "form = driver.find_element(By.TAG_NAME,\"form\")\n",
    "form.submit()"
   ]
  },
  {
   "cell_type": "code",
   "execution_count": null,
   "metadata": {},
   "outputs": [],
   "source": [
    "group_select = driver.find_element(By.CSS_SELECTOR,\"select[name='student_group_id']\")\n",
    "for group in group_select.find_elements(By.TAG_NAME,\"option\"):\n",
    "    if scraper.group in group.text:\n",
    "        group.click()\n",
    "        break"
   ]
  },
  {
   "cell_type": "code",
   "execution_count": null,
   "metadata": {},
   "outputs": [],
   "source": [
    "form = driver.find_element(By.TAG_NAME,\"form\")\n",
    "form.submit()"
   ]
  },
  {
   "cell_type": "code",
   "execution_count": null,
   "metadata": {},
   "outputs": [],
   "source": [
    "src_text = driver.page_source\n",
    "html_obj = HTML(html=src_text)"
   ]
  },
  {
   "cell_type": "code",
   "execution_count": null,
   "metadata": {},
   "outputs": [],
   "source": [
    "timetable_table = html_obj.find(\"table\", first=True)\n",
    "headers = []\n",
    "table_header = timetable_table.find(\"thead\", first=True)\n",
    "for td in table_header.find(\"td\"):\n",
    "    headers.append(td.text)\n",
    "\n",
    "timetables = {}\n",
    "table_body = timetable_table.find(\"tbody\", first=True)\n",
    "day = None\n",
    "for tr in table_body.find(\"tr\"):\n",
    "    tds = tr.find(\"td\")\n",
    "    if len(tds) == 1:\n",
    "        day = tds[0].text\n",
    "        timetables[day] = []    \n",
    "    else:\n",
    "        timetable = {}\n",
    "        for header,td in zip(headers[1:],tds):\n",
    "            timetable[header] = td.text\n",
    "        timetables[day].append(timetable)\n",
    "\n",
    "\n",
    "timetables"
   ]
  },
  {
   "cell_type": "code",
   "execution_count": null,
   "metadata": {},
   "outputs": [],
   "source": [
    "# Test scraper for group\n",
    "scraper1 = TimetableScraper(group=\"АС-112Б\",semester=2,academic_year='2022/2023', headless=True)\n",
    "scraper1.get_timetables_dict()"
   ]
  },
  {
   "cell_type": "code",
   "execution_count": null,
   "metadata": {},
   "outputs": [],
   "source": [
    "scraper2 = TimetableScraper(teacher=\"Абдрахманова\",semester=2,academic_year='2022/2023', headless=True)\n",
    "scraper2.select_semester()\n",
    "filter_radio = scraper2.driver.find_element(By.CSS_SELECTOR,\"input[value='2']\")\n",
    "filter_radio.click()\n",
    "scraper2._submit_form()\n",
    "teacher_select = scraper2.driver.find_element(By.CSS_SELECTOR, \"select[name='teacher']\")\n",
    "for teacher in teacher_select.find_elements(By.TAG_NAME, \"option\"):\n",
    "    if scraper2.teacher.lower() in teacher.text.lower():\n",
    "        teacher.click()\n",
    "        break\n",
    "else:\n",
    "    raise ValueError(f\"teacher {scraper2.teacher} not found.\")\n",
    "scraper2._submit_form()\n",
    "scraper2.get_timetables_dict()"
   ]
  },
  {
   "cell_type": "code",
   "execution_count": null,
   "metadata": {},
   "outputs": [],
   "source": [
    "# Test scraper for teacher\n",
    "scraper3 = TimetableScraper(teacher=\"Абдрахманова\",semester=2,academic_year='2022/2023', headless=True)\n",
    "scraper3.get_timetables_dict()"
   ]
  }
 ],
 "metadata": {
  "kernelspec": {
   "display_name": "venv",
   "language": "python",
   "name": "python3"
  },
  "language_info": {
   "codemirror_mode": {
    "name": "ipython",
    "version": 3
   },
   "file_extension": ".py",
   "mimetype": "text/x-python",
   "name": "python",
   "nbconvert_exporter": "python",
   "pygments_lexer": "ipython3",
   "version": "3.10.6"
  },
  "orig_nbformat": 4,
  "vscode": {
   "interpreter": {
    "hash": "3f1c9a5948027c346bc97b6eecdc109beacd6e38bb0dd9a0f73eae137d48d174"
   }
  }
 },
 "nbformat": 4,
 "nbformat_minor": 2
}
