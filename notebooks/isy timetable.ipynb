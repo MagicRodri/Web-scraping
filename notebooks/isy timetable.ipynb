{
 "cells": [
  {
   "cell_type": "code",
   "execution_count": 2,
   "metadata": {},
   "outputs": [],
   "source": [
    "#cd .."
   ]
  },
  {
   "cell_type": "code",
   "execution_count": 3,
   "metadata": {},
   "outputs": [],
   "source": [
    "from isy_timetable.timetable_scraper import TimetableScraper,semesters,timetable_types_value\n",
    "from requests_html import HTML\n",
    "from selenium.webdriver.common.keys import Keys\n",
    "from selenium.webdriver.common.by import By"
   ]
  },
  {
   "cell_type": "code",
   "execution_count": 4,
   "metadata": {},
   "outputs": [],
   "source": [
    "scraper = TimetableScraper(group=\"АС-112Б\",semester=2,academic_year='2022/2023', headless=True)\n",
    "driver = scraper.get_driver()\n",
    "driver.get(scraper.endpoint)\n",
    "page = driver.page_source\n",
    "assert \"Расписание\" in page"
   ]
  },
  {
   "cell_type": "code",
   "execution_count": 5,
   "metadata": {},
   "outputs": [],
   "source": [
    "semester_select = driver.find_element(By.NAME,\"schedule_semestr_id\")\n",
    "semester = semesters[scraper.semester].format(academic_year=scraper.academic_year)\n",
    "for term in semester_select.find_elements(By.TAG_NAME,\"option\"):\n",
    "    if term.text == semester:\n",
    "        term.click()\n",
    "        break\n"
   ]
  },
  {
   "cell_type": "code",
   "execution_count": 6,
   "metadata": {},
   "outputs": [],
   "source": [
    "filter_radio = driver.find_element(By.CSS_SELECTOR,\"input[value='1']\")\n",
    "filter_radio.click()"
   ]
  },
  {
   "cell_type": "code",
   "execution_count": 7,
   "metadata": {},
   "outputs": [],
   "source": [
    "form = driver.find_element(By.TAG_NAME,\"form\")\n",
    "form.submit()"
   ]
  },
  {
   "cell_type": "code",
   "execution_count": 8,
   "metadata": {},
   "outputs": [],
   "source": [
    "group_select = driver.find_element(By.CSS_SELECTOR,\"select[name='student_group_id']\")\n",
    "for group in group_select.find_elements(By.TAG_NAME,\"option\"):\n",
    "    if scraper.group in group.text:\n",
    "        group.click()\n",
    "        break"
   ]
  },
  {
   "cell_type": "code",
   "execution_count": 9,
   "metadata": {},
   "outputs": [],
   "source": [
    "form = driver.find_element(By.TAG_NAME,\"form\")\n",
    "form.submit()"
   ]
  },
  {
   "cell_type": "code",
   "execution_count": 10,
   "metadata": {},
   "outputs": [],
   "source": [
    "src_text = driver.page_source\n",
    "html_obj = HTML(html=src_text)"
   ]
  },
  {
   "cell_type": "code",
   "execution_count": 11,
   "metadata": {},
   "outputs": [
    {
     "ename": "KeyError",
     "evalue": "None",
     "output_type": "error",
     "traceback": [
      "\u001b[0;31m---------------------------------------------------------------------------\u001b[0m",
      "\u001b[0;31mKeyError\u001b[0m                                  Traceback (most recent call last)",
      "Cell \u001b[0;32mIn[11], line 19\u001b[0m\n\u001b[1;32m     17\u001b[0m         \u001b[39mfor\u001b[39;00m header,td \u001b[39min\u001b[39;00m \u001b[39mzip\u001b[39m(headers[\u001b[39m1\u001b[39m:],tds):\n\u001b[1;32m     18\u001b[0m             timetable[header] \u001b[39m=\u001b[39m td\u001b[39m.\u001b[39mtext\n\u001b[0;32m---> 19\u001b[0m         timetables[day]\u001b[39m.\u001b[39mappend(timetable)\n\u001b[1;32m     22\u001b[0m timetables\n",
      "\u001b[0;31mKeyError\u001b[0m: None"
     ]
    }
   ],
   "source": [
    "timetable_table = html_obj.find(\"table\", first=True)\n",
    "headers = []\n",
    "table_header = timetable_table.find(\"thead\", first=True)\n",
    "for td in table_header.find(\"td\"):\n",
    "    headers.append(td.text)\n",
    "\n",
    "timetables = {}\n",
    "table_body = timetable_table.find(\"tbody\", first=True)\n",
    "day = None\n",
    "for tr in table_body.find(\"tr\"):\n",
    "    tds = tr.find(\"td\")\n",
    "    if len(tds) == 1:\n",
    "        day = tds[0].text\n",
    "        timetables[day] = []    \n",
    "    else:\n",
    "        timetable = {}\n",
    "        for header,td in zip(headers[1:],tds):\n",
    "            timetable[header] = td.text\n",
    "        timetables[day].append(timetable)\n",
    "\n",
    "\n",
    "timetables"
   ]
  },
  {
   "cell_type": "code",
   "execution_count": 12,
   "metadata": {},
   "outputs": [
    {
     "data": {
      "text/plain": [
       "{'Понедельник': [{'Время': '09:45-11:20', 'Неделя': 'Нет информации'},\n",
       "  {'Время': '12:10-13:45',\n",
       "   'Неделя': '21',\n",
       "   'Дисциплина': 'Экология и устойчивое развитие (Green Class)',\n",
       "   'Тип занятия': 'Лекция',\n",
       "   'Преподаватель': 'Свирский С. Э.',\n",
       "   'Аудитория': '2-218',\n",
       "   'Комментарий': ''},\n",
       "  {'Время': '13:55-15:30',\n",
       "   'Неделя': '23 24 25 26 27 28 29 30 31 32 33 34 35 38 39 40 41',\n",
       "   'Дисциплина': 'Физическая культура и спорт',\n",
       "   'Тип занятия': 'Физвоспитание',\n",
       "   'Преподаватель': 'Преподаватель не определён',\n",
       "   'Аудитория': 'Спортивный зал',\n",
       "   'Комментарий': ''},\n",
       "  {'Время': '16:10-17:45',\n",
       "   'Неделя': '25 27 29 31 33 35 39',\n",
       "   'Дисциплина': 'Основы компьютерного инжиниринга',\n",
       "   'Тип занятия': 'Лабораторная работа',\n",
       "   'Преподаватель': 'Киселева М. А.',\n",
       "   'Аудитория': '8-521',\n",
       "   'Комментарий': ''},\n",
       "  {'Время': '16:10-17:45',\n",
       "   'Неделя': '25 27 29 31 33 35 39',\n",
       "   'Дисциплина': 'Основы компьютерного инжиниринга',\n",
       "   'Тип занятия': 'Лабораторная работа',\n",
       "   'Преподаватель': 'Чертовских С. В.',\n",
       "   'Аудитория': '8-517',\n",
       "   'Комментарий': ''},\n",
       "  {'Время': '17:55-19:30',\n",
       "   'Неделя': '25 27 29 31 33 35 39',\n",
       "   'Дисциплина': 'Основы компьютерного инжиниринга',\n",
       "   'Тип занятия': 'Лабораторная работа',\n",
       "   'Преподаватель': 'Киселева М. А.',\n",
       "   'Аудитория': '8-521',\n",
       "   'Комментарий': ''},\n",
       "  {'Время': '17:55-19:30',\n",
       "   'Неделя': '25 27 29 31 33 35 39',\n",
       "   'Дисциплина': 'Основы компьютерного инжиниринга',\n",
       "   'Тип занятия': 'Лабораторная работа',\n",
       "   'Преподаватель': 'Чертовских С. В.',\n",
       "   'Аудитория': '8-517',\n",
       "   'Комментарий': ''},\n",
       "  {'Время': '19:40-21:15', 'Неделя': 'Нет информации'},\n",
       "  {'Время': '18:25-19:55', 'Неделя': 'Нет информации'},\n",
       "  {'Время': '20:05-21:40', 'Неделя': 'Нет информации'},\n",
       "  {'Время': '21:55-23:00', 'Неделя': 'Нет информации'}],\n",
       " 'Вторник': [{'Время': '09:45-11:20',\n",
       "   'Неделя': '21 22 23 24 25 26 27 28 29 30 31 32 33 34 35',\n",
       "   'Дисциплина': 'Техническая и вычислительная физика',\n",
       "   'Тип занятия': 'Лекция',\n",
       "   'Преподаватель': 'Лазарев В. В.',\n",
       "   'Аудитория': '2-212',\n",
       "   'Комментарий': ''},\n",
       "  {'Время': '12:10-13:45',\n",
       "   'Неделя': '23 24 25 26 27 28 29 30 31 32 33 34 35',\n",
       "   'Дисциплина': 'Техническая и вычислительная физика',\n",
       "   'Тип занятия': 'Практика (семинар)',\n",
       "   'Преподаватель': 'Лазарев В. В.',\n",
       "   'Аудитория': '1-335',\n",
       "   'Комментарий': ''},\n",
       "  {'Время': '13:55-15:30',\n",
       "   'Неделя': '24 25 26 27 28 29',\n",
       "   'Дисциплина': 'Технологии эффективных деловых и научных коммуникаций',\n",
       "   'Тип занятия': 'Практика (семинар)',\n",
       "   'Преподаватель': 'Салихова Э. А.',\n",
       "   'Аудитория': '9-303',\n",
       "   'Комментарий': ''},\n",
       "  {'Время': '16:10-17:45', 'Неделя': 'Нет информации'},\n",
       "  {'Время': '17:55-19:30',\n",
       "   'Неделя': '21 22 23 24 25 26',\n",
       "   'Дисциплина': 'Экология и устойчивое развитие (Green Class)',\n",
       "   'Тип занятия': 'Лекция',\n",
       "   'Преподаватель': 'Свирский С. Э.',\n",
       "   'Аудитория': 'Дистанционно',\n",
       "   'Комментарий': ''},\n",
       "  {'Время': '19:40-21:15', 'Неделя': 'Нет информации'},\n",
       "  {'Время': '18:25-19:55', 'Неделя': 'Нет информации'},\n",
       "  {'Время': '20:05-21:40', 'Неделя': 'Нет информации'},\n",
       "  {'Время': '21:55-23:00', 'Неделя': 'Нет информации'}],\n",
       " 'Среда': [{'Время': '09:45-11:20',\n",
       "   'Неделя': '23',\n",
       "   'Дисциплина': 'Технологии эффективных деловых и научных коммуникаций',\n",
       "   'Тип занятия': 'Лекция',\n",
       "   'Преподаватель': 'Салихова Э. А.',\n",
       "   'Аудитория': '9-202',\n",
       "   'Комментарий': ''},\n",
       "  {'Время': '12:10-13:45',\n",
       "   'Неделя': '23 24 25 26 27 29 30 31 32 33 34 35 36 37 38 39 40 41',\n",
       "   'Дисциплина': 'Иностранный язык',\n",
       "   'Тип занятия': 'Практика (семинар)',\n",
       "   'Преподаватель': 'Преподаватель не определён',\n",
       "   'Аудитория': '1-303',\n",
       "   'Комментарий': ''},\n",
       "  {'Время': '13:55-15:30', 'Неделя': 'Нет информации'},\n",
       "  {'Время': '16:10-17:45', 'Неделя': 'Нет информации'},\n",
       "  {'Время': '17:55-19:30', 'Неделя': 'Нет информации'},\n",
       "  {'Время': '19:40-21:15', 'Неделя': 'Нет информации'},\n",
       "  {'Время': '18:25-19:55', 'Неделя': 'Нет информации'},\n",
       "  {'Время': '20:05-21:40', 'Неделя': 'Нет информации'},\n",
       "  {'Время': '21:55-23:00', 'Неделя': 'Нет информации'}],\n",
       " 'Четверг': [{'Время': '09:45-11:20', 'Неделя': 'Нет информации'},\n",
       "  {'Время': '12:10-13:45', 'Неделя': 'Нет информации'},\n",
       "  {'Время': '13:55-15:30', 'Неделя': 'Нет информации'},\n",
       "  {'Время': '16:10-17:45', 'Неделя': 'Нет информации'},\n",
       "  {'Время': '17:55-19:30', 'Неделя': 'Нет информации'},\n",
       "  {'Время': '19:40-21:15', 'Неделя': 'Нет информации'},\n",
       "  {'Время': '18:25-19:55', 'Неделя': 'Нет информации'},\n",
       "  {'Время': '20:05-21:40', 'Неделя': 'Нет информации'},\n",
       "  {'Время': '21:55-23:00', 'Неделя': 'Нет информации'}],\n",
       " 'Пятница': [{'Время': '09:45-11:20', 'Неделя': 'Нет информации'},\n",
       "  {'Время': '12:10-13:45', 'Неделя': 'Нет информации'},\n",
       "  {'Время': '13:55-15:30', 'Неделя': 'Нет информации'},\n",
       "  {'Время': '16:10-17:45', 'Неделя': 'Нет информации'},\n",
       "  {'Время': '17:55-19:30', 'Неделя': 'Нет информации'},\n",
       "  {'Время': '19:40-21:15', 'Неделя': 'Нет информации'},\n",
       "  {'Время': '18:25-19:55', 'Неделя': 'Нет информации'},\n",
       "  {'Время': '20:05-21:40', 'Неделя': 'Нет информации'},\n",
       "  {'Время': '21:55-23:00', 'Неделя': 'Нет информации'}],\n",
       " 'Суббота': [{'Время': '09:45-11:20', 'Неделя': 'Нет информации'},\n",
       "  {'Время': '12:10-13:45', 'Неделя': 'Нет информации'},\n",
       "  {'Время': '13:55-15:30', 'Неделя': 'Нет информации'},\n",
       "  {'Время': '16:10-17:45', 'Неделя': 'Нет информации'},\n",
       "  {'Время': '17:55-19:30',\n",
       "   'Неделя': '22 23 24 25 27',\n",
       "   'Дисциплина': 'Основы компьютерного инжиниринга',\n",
       "   'Тип занятия': 'Лекция',\n",
       "   'Преподаватель': 'Горлова И. Р.',\n",
       "   'Аудитория': 'Дистанционно',\n",
       "   'Комментарий': ''},\n",
       "  {'Время': '19:40-21:15', 'Неделя': 'Нет информации'},\n",
       "  {'Время': '18:25-19:55', 'Неделя': 'Нет информации'},\n",
       "  {'Время': '20:05-21:40', 'Неделя': 'Нет информации'},\n",
       "  {'Время': '21:55-23:00', 'Неделя': 'Нет информации'}]}"
      ]
     },
     "execution_count": 12,
     "metadata": {},
     "output_type": "execute_result"
    }
   ],
   "source": [
    "# Test scraper for group\n",
    "scraper1 = TimetableScraper(group=\"АС-112Б\",semester=2,academic_year='2022/2023', headless=True)\n",
    "scraper1.get_timetables_dict()"
   ]
  },
  {
   "cell_type": "code",
   "execution_count": null,
   "metadata": {},
   "outputs": [],
   "source": [
    "scraper2 = TimetableScraper(teacher=\"Абдрахманова\",semester=2,academic_year='2022/2023', headless=True)\n",
    "scraper2.select_semester()\n",
    "filter_radio = scraper2.driver.find_element(By.CSS_SELECTOR,\"input[value='2']\")\n",
    "filter_radio.click()\n",
    "scraper2._submit_form()\n",
    "teacher_select = scraper2.driver.find_element(By.CSS_SELECTOR, \"select[name='teacher']\")\n",
    "for teacher in teacher_select.find_elements(By.TAG_NAME, \"option\"):\n",
    "    if scraper2.teacher.lower() in teacher.text.lower():\n",
    "        teacher.click()\n",
    "        break\n",
    "else:\n",
    "    raise ValueError(f\"teacher {scraper2.teacher} not found.\")\n",
    "scraper2._submit_form()\n",
    "scraper2.get_timetables_dict()"
   ]
  },
  {
   "cell_type": "code",
   "execution_count": null,
   "metadata": {},
   "outputs": [],
   "source": [
    "# Test scraper for teacher\n",
    "scraper3 = TimetableScraper(teacher=\"Абдрахманова\",semester=2,academic_year='2022/2023', headless=True)\n",
    "scraper3.get_timetables_dict()"
   ]
  },
  {
   "cell_type": "code",
   "execution_count": null,
   "metadata": {},
   "outputs": [],
   "source": [
    "scraper3.get_list_of(teacher=True)"
   ]
  }
 ],
 "metadata": {
  "kernelspec": {
   "display_name": "venv",
   "language": "python",
   "name": "python3"
  },
  "language_info": {
   "codemirror_mode": {
    "name": "ipython",
    "version": 3
   },
   "file_extension": ".py",
   "mimetype": "text/x-python",
   "name": "python",
   "nbconvert_exporter": "python",
   "pygments_lexer": "ipython3",
   "version": "3.10.6"
  },
  "orig_nbformat": 4,
  "vscode": {
   "interpreter": {
    "hash": "3f1c9a5948027c346bc97b6eecdc109beacd6e38bb0dd9a0f73eae137d48d174"
   }
  }
 },
 "nbformat": 4,
 "nbformat_minor": 2
}
