{
 "cells": [
  {
   "cell_type": "code",
   "execution_count": 8,
   "metadata": {},
   "outputs": [],
   "source": [
    "import requests\n",
    "from requests_html import HTML"
   ]
  },
  {
   "cell_type": "code",
   "execution_count": 21,
   "metadata": {},
   "outputs": [],
   "source": [
    "url = 'https://www.boxofficemojo.com/year/world/'\n",
    "\n",
    "r = requests.get(url)\n",
    "r_html = HTML(html=r.text)"
   ]
  },
  {
   "cell_type": "code",
   "execution_count": 37,
   "metadata": {},
   "outputs": [],
   "source": [
    "table_class = '.imdb-scroll-table'\n",
    "r_table = r_html.find(table_class)\n",
    "\n",
    "table_headers = []\n",
    "table_data = []\n",
    "if len(r_table) == 1:\n",
    "    table = r_table[0]\n",
    "    tables_rows = table.find('tr')\n",
    "    table_headers = [x.text for x in tables_rows[0].find('th')]\n",
    "\n",
    "    for row in tables_rows[1:]:\n",
    "        table_data.append([th.text for th in row.find('th')])\n",
    "\n",
    "# table_headers\n",
    "# table_data"
   ]
  }
 ],
 "metadata": {
  "kernelspec": {
   "display_name": "Python 3.10.6 ('venv': venv)",
   "language": "python",
   "name": "python3"
  },
  "language_info": {
   "codemirror_mode": {
    "name": "ipython",
    "version": 3
   },
   "file_extension": ".py",
   "mimetype": "text/x-python",
   "name": "python",
   "nbconvert_exporter": "python",
   "pygments_lexer": "ipython3",
   "version": "3.10.6"
  },
  "orig_nbformat": 4,
  "vscode": {
   "interpreter": {
    "hash": "3f1c9a5948027c346bc97b6eecdc109beacd6e38bb0dd9a0f73eae137d48d174"
   }
  }
 },
 "nbformat": 4,
 "nbformat_minor": 2
}
