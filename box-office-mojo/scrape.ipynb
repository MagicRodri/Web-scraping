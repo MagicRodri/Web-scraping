{
 "cells": [
  {
   "cell_type": "code",
   "execution_count": 89,
   "metadata": {},
   "outputs": [],
   "source": [
    "import requests\n",
    "from requests_html import HTML\n",
    "import pandas as pd"
   ]
  },
  {
   "cell_type": "code",
   "execution_count": 90,
   "metadata": {},
   "outputs": [],
   "source": [
    "url = 'https://www.boxofficemojo.com/year/world/'\n",
    "r = requests.get(url)\n",
    "r_html = HTML(html=r.text)"
   ]
  },
  {
   "cell_type": "code",
   "execution_count": 96,
   "metadata": {},
   "outputs": [],
   "source": [
    "data_table = r_html.find('table',first=True)\n",
    "header = []\n",
    "body_data = []\n",
    "if data_table:\n",
    "    header = [th.text for th in data_table.find('th')]\n",
    "\n",
    "    table_body = data_table.find('tr')\n",
    "\n",
    "    for i in range(1,len(table_body)):\n",
    "        data = [th.text for th in table_body[i].find('td')]\n",
    "        body_data.append(data)\n",
    "\n",
    "data_frame = pd.DataFrame(data=body_data, columns=header)"
   ]
  }
 ],
 "metadata": {
  "kernelspec": {
   "display_name": "Python 3.6.8 ('venv': venv)",
   "language": "python",
   "name": "python3"
  },
  "language_info": {
   "codemirror_mode": {
    "name": "ipython",
    "version": 3
   },
   "file_extension": ".py",
   "mimetype": "text/x-python",
   "name": "python",
   "nbconvert_exporter": "python",
   "pygments_lexer": "ipython3",
   "version": "3.6.8"
  },
  "orig_nbformat": 4,
  "vscode": {
   "interpreter": {
    "hash": "ec90d3da502d2f37710bb22ccbcaf96bbeaf36c6c5a1669596b89fed531bf4c3"
   }
  }
 },
 "nbformat": 4,
 "nbformat_minor": 2
}
